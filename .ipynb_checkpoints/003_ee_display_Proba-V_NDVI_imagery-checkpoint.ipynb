{
 "cells": [
  {
   "cell_type": "code",
   "execution_count": null,
   "metadata": {
    "collapsed": true
   },
   "outputs": [],
   "source": [
    "# author: René Kopeinig\n",
    "# script: Display Proba-V NDVI Imagery\n",
    "# description: Display Proba-V NDVI (Normalized Difference Vegetation Index) Imagery with \n",
    "#              help of Google Earth Engine Python API.\n",
    "#              Note: Please make sure you have all dependencies in Python installed and you are signed up for Google Earth Engine."
   ]
  },
  {
   "cell_type": "code",
   "execution_count": null,
   "metadata": {
    "collapsed": true
   },
   "outputs": [],
   "source": [
    "# Add IPython-specific directive to display plots directly below the notebook cell\n",
    "%matplotlib inline"
   ]
  },
  {
   "cell_type": "code",
   "execution_count": 1,
   "metadata": {
    "collapsed": true
   },
   "outputs": [],
   "source": [
    "# Import Dependencies\n",
    "import ee, datetime\n",
    "import pandas as pd\n",
    "import matplotlib.dates as mdates\n",
    "from IPython.display import Image\n",
    "from matplotlib import dates\n",
    "from pylab import *"
   ]
  },
  {
   "cell_type": "code",
   "execution_count": 2,
   "metadata": {
    "collapsed": true
   },
   "outputs": [],
   "source": [
    "# Create image collection\n",
    "probav = ee.ImageCollection('VITO/PROBAV/C1/S1_TOC_100M')\n",
    "\n",
    "# Reduce image collection to mean\n",
    "probav_min = probav.mean()\n",
    "\n",
    "# Set location to Europe (Proba-V Footprint: X18Y02) \n",
    "point = ee.Geometry.Point(6.134136, 49.612485)\n",
    "luxembourg = point.buffer(500000).bounds().getInfo()['coordinates']"
   ]
  },
  {
   "cell_type": "code",
   "execution_count": 7,
   "metadata": {},
   "outputs": [
    {
     "data": {
      "text/html": [
       "<img src=\"https://earthengine.googleapis.com/api/thumb?thumbid=def28fd3f1344e4e01bab48170329d75&token=58d9490f3ee98e8866e8095699372782\"/>"
      ],
      "text/plain": [
       "<IPython.core.display.Image object>"
      ]
     },
     "execution_count": 7,
     "metadata": {},
     "output_type": "execute_result"
    }
   ],
   "source": [
    "# Calculate and plot NDVI \n",
    "# Note: Not using NDVI band, NDVI will be calculated from NIR and RED band\n",
    "ndvi = probav_min.normalizedDifference([\"NIR\", \"RED\"])\n",
    "Image(url=ndvi.getThumbUrl({\n",
    "    'region':luxembourg,\n",
    "    'min':-1,\n",
    "    'max':1\n",
    "}))"
   ]
  },
  {
   "cell_type": "code",
   "execution_count": null,
   "metadata": {
    "collapsed": true
   },
   "outputs": [],
   "source": []
  }
 ],
 "metadata": {
  "kernelspec": {
   "display_name": "Python 3",
   "language": "python",
   "name": "python3"
  },
  "language_info": {
   "codemirror_mode": {
    "name": "ipython",
    "version": 3
   },
   "file_extension": ".py",
   "mimetype": "text/x-python",
   "name": "python",
   "nbconvert_exporter": "python",
   "pygments_lexer": "ipython3",
   "version": "3.6.3"
  }
 },
 "nbformat": 4,
 "nbformat_minor": 2
}
