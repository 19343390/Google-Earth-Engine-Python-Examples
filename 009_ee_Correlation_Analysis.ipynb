{
 "cells": [
  {
   "cell_type": "code",
   "execution_count": 214,
   "metadata": {},
   "outputs": [],
   "source": [
    "# author: René Kopeinig\n",
    "# script: Time Series Forecast\n",
    "# description: Time Series Forecast on Proba-V NDVI, Landsat 8 NDVI and CHIRPS precipitation data\n",
    "#              Note: Please make sure you have all dependencies in Python installed and you are signed up for Google Earth Engine."
   ]
  },
  {
   "cell_type": "code",
   "execution_count": 215,
   "metadata": {},
   "outputs": [],
   "source": [
    "# Import Dependencies\n",
    "import time\n",
    "import geextract\n",
    "import pandas as pd\n",
    "import matplotlib.pylab as plt\n",
    "from datetime import datetime\n",
    "from pprint import pprint\n",
    "from matplotlib.pylab import rcParams\n",
    "rcParams['figure.figsize'] = 15, 6"
   ]
  },
  {
   "cell_type": "code",
   "execution_count": 216,
   "metadata": {},
   "outputs": [],
   "source": [
    "lon = -89.464111\n",
    "lat = 18.770896 \n",
    "\n",
    "out = geextract.ts_extract(lon=lon, lat=lat, sensor='LC8', start=datetime(1980, 1, 1, 0, 0),\n",
    "                           end=datetime.today(), radius=500)"
   ]
  },
  {
   "cell_type": "code",
   "execution_count": 217,
   "metadata": {},
   "outputs": [],
   "source": [
    "\n",
    "# Create Pandas DataFrame\n",
    "data=pd.DataFrame(out)\n",
    "data['id'] = data['id'].map(lambda x: geextract.get_date(x))\n",
    "\n",
    "# Set Index\n",
    "data=data.set_index('id')\n",
    "data=data.fillna(method='bfill')\n",
    "\n",
    "# Indices\n",
    "data['ndvi'] = (data['B5'] - data['B4']) / (data['B5'] + data['B4'])\n",
    "data['ndmi'] = (data['B5'] - data['B6']) / (data['B5'] + data['B6'])\n",
    "data['nbr'] = (data['B5'] - data['B7']) / (data['B5'] + data['B7'])\n",
    "data['bsi'] = ((data['B6'] + data['B4']) - (data['B5'] + data['B2'])) / ((data['B6'] + data['B4']) + (data['B5'] + data['B2']))\n",
    "data['avi'] = (data['B5'] *(1-data['B3'])*(data['B4']-data['B3']))/3\n",
    "data['sl'] = ((1-data['B2'])*(1-data['B3'])*(1-data['B4']))/3\n",
    "data['mid'] = (data['B6'] + data['B7'])\n",
    "data['msi'] = (data['B6'] / data['B5'])\n"
   ]
  },
  {
   "cell_type": "code",
   "execution_count": null,
   "metadata": {},
   "outputs": [],
   "source": []
  }
 ],
 "metadata": {
  "kernelspec": {
   "display_name": "Python 3",
   "language": "python",
   "name": "python3"
  },
  "language_info": {
   "codemirror_mode": {
    "name": "ipython",
    "version": 3
   },
   "file_extension": ".py",
   "mimetype": "text/x-python",
   "name": "python",
   "nbconvert_exporter": "python",
   "pygments_lexer": "ipython3",
   "version": "3.7.3"
  }
 },
 "nbformat": 4,
 "nbformat_minor": 2
}
